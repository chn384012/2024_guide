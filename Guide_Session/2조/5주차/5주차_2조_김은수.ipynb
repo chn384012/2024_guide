{
 "cells": [
  {
   "cell_type": "markdown",
   "id": "d75425e5",
   "metadata": {},
   "source": [
    "# 2024 Guide Session 5주차 실습"
   ]
  },
  {
   "cell_type": "code",
   "execution_count": null,
   "id": "a32fc43d",
   "metadata": {},
   "outputs": [],
   "source": [
    "'''1'''\n",
    "import pandas as pd\n",
    "import numpy as np\n",
    "\n",
    "import seaborn as sns\n",
    "sns.set_palette('PRGn')\n",
    "import matplotlib.pyplot as plt\n",
    "\n",
    "%matplotlib inline\n",
    "\n",
    "import warnings\n",
    "warnings.filterwarnings('ignore')"
   ]
  },
  {
   "cell_type": "code",
   "execution_count": null,
   "id": "aee4e8a6",
   "metadata": {},
   "outputs": [],
   "source": [
    "'''2'''\n",
    "df_train = pd.read_csv('df_train_4.csv')\n",
    "df_test = pd.read_csv('df_test_4.csv')\n",
    "\n",
    "df_train.head()"
   ]
  },
  {
   "cell_type": "markdown",
   "id": "baf4d810",
   "metadata": {},
   "source": [
    "## 지난 시간 복습하기"
   ]
  },
  {
   "cell_type": "code",
   "execution_count": null,
   "id": "77ee00a0",
   "metadata": {
    "scrolled": true
   },
   "outputs": [],
   "source": [
    "'''3'''\n",
    "print(df_train.shape) \n",
    "print(df_test.shape) "
   ]
  },
  {
   "cell_type": "code",
   "execution_count": null,
   "id": "2dfa31cf",
   "metadata": {},
   "outputs": [],
   "source": [
    "'''4'''\n",
    "df_train.info() "
   ]
  },
  {
   "cell_type": "code",
   "execution_count": null,
   "id": "e4526833",
   "metadata": {},
   "outputs": [],
   "source": [
    "'''5'''\n",
    "df_train.describe()"
   ]
  },
  {
   "cell_type": "code",
   "execution_count": null,
   "id": "fe528f2f",
   "metadata": {},
   "outputs": [],
   "source": [
    "'''6'''\n",
    "# 1. 성별 분포 시각화\n",
    "sex_counts = df_train['Sex'].value_counts()\n",
    "plt.pie(sex_counts, labels= sex_counts.index, autopct='%1.1f%%')\n",
    "plt.title('Distribution of Sex')\n",
    "plt.show()"
   ]
  },
  {
   "cell_type": "code",
   "execution_count": null,
   "id": "54f91d86",
   "metadata": {
    "scrolled": false
   },
   "outputs": [],
   "source": [
    "'''7'''\n",
    "# 2. 객실 등급(Pclass)에 따른 생존율\n",
    "survival_rate = df_train.groupby('Pclass')['Survived'].mean().reset_index()  \n",
    "plt.figure(figsize=(10, 6))\n",
    "sns.barplot(x='Pclass', y='Survived', data=survival_rate)\n",
    "plt.title('Survival Rate by Pclass')\n",
    "plt.ylabel('Survival Rate')\n",
    "plt.xlabel('Pclass')\n",
    "plt.show()"
   ]
  },
  {
   "cell_type": "markdown",
   "id": "94012f61",
   "metadata": {},
   "source": [
    "## EDA 실습 & 퀴즈"
   ]
  },
  {
   "cell_type": "markdown",
   "id": "1e7d6e0c",
   "metadata": {},
   "source": [
    "<span style = \"color:red\"> \n",
    "Q1. 타이타닉 승객은 30대가 가장 많다. (O or X로 답해주세요.)"
   ]
  },
  {
   "cell_type": "code",
   "execution_count": null,
   "id": "01bc966d",
   "metadata": {},
   "outputs": [],
   "source": [
    "### 답 -> ()\n",
    "# 여기에 발표자를 따라서 코드를 작성하세요."
   ]
  },
  {
   "cell_type": "markdown",
   "id": "4219cdbd",
   "metadata": {},
   "source": [
    "<span style = \"color:red\"> \n",
    "Q2. 3등석 객실에 가장 많은 연령대는 무엇인가요? (파이차트를 그려서 알아보세요.)"
   ]
  },
  {
   "cell_type": "code",
   "execution_count": null,
   "id": "c68a2738",
   "metadata": {},
   "outputs": [],
   "source": [
    "### 답\n",
    "# 여기에 답을 작성하세요.\n",
    "\n",
    "# 1. Pclass가 3인 데이터를 df_train_copy에서 뽑아 class_3_data에 저장하세요.\n",
    "# 2. class_3_data를 위에서 만든 Age_cat 변수 별로 그룹화(groupby)하여 각 연령대에서의 횟수(size())를 구하고, age_class_3_group에 저장하세요.\n",
    "# 3. age_class_3_group(연령별 횟수)을 전체 횟수의 합으로 나눠서 age_class_3_percentage에 저장하세요.\n",
    "\n",
    "#1\n",
    "\n",
    "#2\n",
    "\n",
    "#3\n",
    "\n",
    "\n",
    "\n",
    "# 파이 차트로 시각화\n",
    "plt.figure(figsize=(8, 8))\n",
    "plt.pie(age_class_3_percentage, labels=age_class_3_percentage.index, autopct='%d%%')\n",
    "plt.title('Age Distribution in Pclass 3')\n",
    "plt.show()"
   ]
  },
  {
   "cell_type": "markdown",
   "id": "db384653",
   "metadata": {},
   "source": [
    "## 문자형 변수 인코딩"
   ]
  },
  {
   "cell_type": "markdown",
   "id": "b70b744d",
   "metadata": {},
   "source": [
    "#### * Sex, Embarked"
   ]
  },
  {
   "cell_type": "code",
   "execution_count": null,
   "id": "2a782cd4",
   "metadata": {},
   "outputs": [],
   "source": [
    "'''8'''\n",
    "df_train['Sex'].value_counts()"
   ]
  },
  {
   "cell_type": "code",
   "execution_count": null,
   "id": "4e0a3488",
   "metadata": {},
   "outputs": [],
   "source": [
    "'''9'''\n",
    "df_train['Embarked'].value_counts()"
   ]
  },
  {
   "cell_type": "code",
   "execution_count": null,
   "id": "4d32c57c",
   "metadata": {},
   "outputs": [],
   "source": [
    "'''10'''\n",
    "df_train = pd.get_dummies(df_train, columns=['Sex', 'Embarked'])\n",
    "df_test = pd.get_dummies(df_test, columns=['Sex', 'Embarked'])"
   ]
  },
  {
   "cell_type": "code",
   "execution_count": null,
   "id": "b503d7af",
   "metadata": {},
   "outputs": [],
   "source": [
    "'''11'''\n",
    "df_train.head(3)"
   ]
  },
  {
   "cell_type": "markdown",
   "id": "d98cf307",
   "metadata": {},
   "source": [
    "## 기본 성능 확인"
   ]
  },
  {
   "cell_type": "code",
   "execution_count": null,
   "id": "55bedc3f",
   "metadata": {
    "scrolled": true
   },
   "outputs": [],
   "source": [
    "'''12'''\n",
    "df_train.head(2)"
   ]
  },
  {
   "cell_type": "code",
   "execution_count": null,
   "id": "fada2b6b",
   "metadata": {},
   "outputs": [],
   "source": [
    "'''13'''\n",
    "df_test.head(2)"
   ]
  },
  {
   "cell_type": "code",
   "execution_count": null,
   "id": "d89fe58a",
   "metadata": {},
   "outputs": [],
   "source": [
    "'''14'''\n",
    "col = ['Pclass', 'Age', 'SibSp', 'Parch', 'Fare', 'Sex_female', 'Sex_male', 'Embarked_C', 'Embarked_Q', 'Embarked_S'] "
   ]
  },
  {
   "cell_type": "code",
   "execution_count": null,
   "id": "7fcdf835",
   "metadata": {},
   "outputs": [],
   "source": [
    "'''15'''\n",
    "X_train = df_train.loc[:, col]\n",
    "y_train = df_train[['Survived']]\n",
    "X_test = df_test.loc[:, col]"
   ]
  },
  {
   "cell_type": "code",
   "execution_count": null,
   "id": "1899e452",
   "metadata": {},
   "outputs": [],
   "source": [
    "'''16'''\n",
    "print(X_train.shape)\n",
    "print(y_train.shape)\n",
    "print(X_test.shape)"
   ]
  },
  {
   "cell_type": "code",
   "execution_count": null,
   "id": "91f3cadd",
   "metadata": {},
   "outputs": [],
   "source": [
    "'''17'''\n",
    "from sklearn.tree import DecisionTreeClassifier\n",
    "\n",
    "model_dt = DecisionTreeClassifier(random_state = 1004)\n",
    "model_dt.fit(X_train, y_train)"
   ]
  },
  {
   "cell_type": "code",
   "execution_count": null,
   "id": "ecbb1edd",
   "metadata": {},
   "outputs": [],
   "source": [
    "'''18'''\n",
    "preds = model_dt.predict(X_test)"
   ]
  },
  {
   "cell_type": "code",
   "execution_count": null,
   "id": "7f116f6f",
   "metadata": {},
   "outputs": [],
   "source": [
    "'''19'''\n",
    "submission = pd.read_csv('submission.csv')\n",
    "submission.loc[:, 'Survived'] = preds"
   ]
  },
  {
   "cell_type": "code",
   "execution_count": null,
   "id": "dcda7426",
   "metadata": {},
   "outputs": [],
   "source": [
    "'''20'''\n",
    "submission.to_csv('base_score.csv', index=False)"
   ]
  },
  {
   "cell_type": "code",
   "execution_count": null,
   "id": "d9a00700",
   "metadata": {},
   "outputs": [],
   "source": [
    "'''21'''\n",
    "score = pd.read_csv('base_score.csv')\n",
    "score"
   ]
  },
  {
   "cell_type": "markdown",
   "id": "4fce644c",
   "metadata": {},
   "source": [
    "## 데이콘 실습\n",
    "- https://dacon.io/competitions/official/235539/overview/description"
   ]
  },
  {
   "cell_type": "markdown",
   "id": "1614b587",
   "metadata": {},
   "source": [
    "## Feature Engineering"
   ]
  },
  {
   "cell_type": "markdown",
   "id": "53a502a1",
   "metadata": {},
   "source": [
    "### 1. 구간화 (Data Bining)"
   ]
  },
  {
   "cell_type": "markdown",
   "id": "938e9784",
   "metadata": {},
   "source": [
    "#### * Age"
   ]
  },
  {
   "cell_type": "code",
   "execution_count": null,
   "id": "801592f8",
   "metadata": {},
   "outputs": [],
   "source": [
    "'''22'''\n",
    "df_train['Age'].describe()"
   ]
  },
  {
   "cell_type": "code",
   "execution_count": null,
   "id": "14639a7e",
   "metadata": {},
   "outputs": [],
   "source": [
    "'''23'''\n",
    "age_bins = [-1, 12, 18, 35, 50, 80]\n",
    "age_labels = [1, 2, 3, 4, 5]\n",
    "\n",
    "df_train['Age'] = pd.cut(df_train['Age'], bins=age_bins, labels=age_labels)\n",
    "df_test['Age'] = pd.cut(df_test['Age'], bins=age_bins, labels=age_labels)"
   ]
  },
  {
   "cell_type": "markdown",
   "id": "a423a947",
   "metadata": {},
   "source": [
    "#### * Fare"
   ]
  },
  {
   "cell_type": "code",
   "execution_count": null,
   "id": "146eb6b5",
   "metadata": {},
   "outputs": [],
   "source": [
    "'''24'''\n",
    "df_train['Fare'].describe()"
   ]
  },
  {
   "cell_type": "code",
   "execution_count": null,
   "id": "4240d1eb",
   "metadata": {},
   "outputs": [],
   "source": [
    "'''25'''\n",
    "fare_bins = [-1, 7.91, 14.45, 31, 66]\n",
    "fare_labels = [1, 2, 3, 4]\n",
    "\n",
    "df_train['Fare'] = pd.cut(df_train['Fare'], bins=fare_bins, labels=fare_labels)\n",
    "df_test['Fare'] = pd.cut(df_test['Fare'], bins=fare_bins, labels=fare_labels)"
   ]
  },
  {
   "cell_type": "code",
   "execution_count": null,
   "id": "6388e467",
   "metadata": {},
   "outputs": [],
   "source": [
    "'''26'''\n",
    "df_train.head(3)"
   ]
  },
  {
   "cell_type": "code",
   "execution_count": null,
   "id": "579219ca",
   "metadata": {},
   "outputs": [],
   "source": [
    "'''27'''\n",
    "df_test.head(3)"
   ]
  },
  {
   "cell_type": "code",
   "execution_count": null,
   "id": "90731f0a",
   "metadata": {},
   "outputs": [],
   "source": [
    "'''28'''\n",
    "# 성능 확인\n",
    "col = ['Pclass', 'Age', 'SibSp', 'Parch', 'Fare', 'Sex_female', 'Sex_male', 'Embarked_C', 'Embarked_Q', 'Embarked_S'] \n",
    "\n",
    "X_train = df_train.loc[:, col]\n",
    "y_train = df_train[['Survived']]\n",
    "X_test = df_test.loc[:, col]\n",
    "\n",
    "print(X_train.shape)\n",
    "print(y_train.shape)\n",
    "print(X_test.shape)\n",
    "\n",
    "from sklearn.tree import DecisionTreeClassifier\n",
    "\n",
    "model_dt = DecisionTreeClassifier(random_state = 1004)\n",
    "model_dt.fit(X_train, y_train)\n",
    "\n",
    "preds = model_dt.predict(X_test)\n",
    "\n",
    "submission = pd.read_csv('submission.csv')\n",
    "submission.loc[:, 'Survived'] = preds\n",
    "\n",
    "submission.to_csv('bining_score.csv', index=False)"
   ]
  },
  {
   "cell_type": "markdown",
   "id": "03be3e9e",
   "metadata": {},
   "source": [
    "### 2. 피쳐 생성 (Feature Generation)"
   ]
  },
  {
   "cell_type": "markdown",
   "id": "a630c2cd",
   "metadata": {},
   "source": [
    "#### * Family Size 생성"
   ]
  },
  {
   "cell_type": "code",
   "execution_count": null,
   "id": "118f55ce",
   "metadata": {},
   "outputs": [],
   "source": [
    "'''29'''\n",
    "df_train['FamilySize'] = df_train['SibSp'] + df_train['Parch'] + 1\n",
    "df_test['FamilySize'] = df_test['SibSp'] + df_test['Parch'] + 1"
   ]
  },
  {
   "cell_type": "code",
   "execution_count": null,
   "id": "754ab9bb",
   "metadata": {},
   "outputs": [],
   "source": [
    "'''30'''\n",
    "# 성능 확인\n",
    "col = ['Pclass', 'Age', 'SibSp', 'Parch', 'Fare', 'Sex_female', 'Sex_male', 'Embarked_C', 'Embarked_Q', 'Embarked_S', 'FamilySize'] \n",
    "\n",
    "X_train = df_train.loc[:, col]\n",
    "y_train = df_train[['Survived']]\n",
    "X_test = df_test.loc[:, col]\n",
    "\n",
    "print(X_train.shape)\n",
    "print(y_train.shape)\n",
    "print(X_test.shape)\n",
    "\n",
    "from sklearn.tree import DecisionTreeClassifier\n",
    "\n",
    "model_dt = DecisionTreeClassifier(random_state = 1004)\n",
    "model_dt.fit(X_train, y_train)\n",
    "\n",
    "preds = model_dt.predict(X_test)\n",
    "\n",
    "submission = pd.read_csv('submission.csv')\n",
    "submission.loc[:, 'Survived'] = preds\n",
    "\n",
    "submission.to_csv('FamilySize_score.csv', index=False)"
   ]
  },
  {
   "cell_type": "markdown",
   "id": "146e8e6f",
   "metadata": {},
   "source": [
    "#### * Ticket Frequency 생성"
   ]
  },
  {
   "cell_type": "code",
   "execution_count": null,
   "id": "2436867d",
   "metadata": {},
   "outputs": [],
   "source": [
    "'''31'''\n",
    "ticket_counts_train = df_train['Ticket'].value_counts()\n",
    "ticket_counts_train"
   ]
  },
  {
   "cell_type": "code",
   "execution_count": null,
   "id": "3656ee3f",
   "metadata": {},
   "outputs": [],
   "source": [
    "'''32'''\n",
    "ticket_counts_test = df_test['Ticket'].value_counts()\n",
    "ticket_counts_test"
   ]
  },
  {
   "cell_type": "code",
   "execution_count": null,
   "id": "0426e712",
   "metadata": {},
   "outputs": [],
   "source": [
    "'''33'''\n",
    "ticket_freq_counts = ticket_counts_train.value_counts()"
   ]
  },
  {
   "cell_type": "code",
   "execution_count": null,
   "id": "466db3c8",
   "metadata": {},
   "outputs": [],
   "source": [
    "'''34'''\n",
    "ticket_freq_counts"
   ]
  },
  {
   "cell_type": "code",
   "execution_count": null,
   "id": "e97eaf83",
   "metadata": {
    "scrolled": false
   },
   "outputs": [],
   "source": [
    "'''35'''\n",
    "plt.figure(figsize=(10, 6))\n",
    "sns.barplot(x=ticket_freq_counts.index, y=ticket_freq_counts.values, palette = 'PRGn')\n",
    "\n",
    "plt.xlabel('Ticket Frequency')\n",
    "plt.ylabel('Count')\n",
    "plt.show()"
   ]
  },
  {
   "cell_type": "code",
   "execution_count": null,
   "id": "2f14fa95",
   "metadata": {},
   "outputs": [],
   "source": [
    "'''36'''\n",
    "ticket_frequency_train = []\n",
    "\n",
    "for index, row in df_train.iterrows():\n",
    "    ticket = row['Ticket']\n",
    "    frequency = ticket_counts_train[ticket]\n",
    "    ticket_frequency_train.append(frequency)\n",
    "\n",
    "df_train['Ticket_Frequency'] = ticket_frequency_train\n",
    "\n",
    "\n",
    "ticket_frequency_test = []\n",
    "\n",
    "for index, row in df_test.iterrows():\n",
    "    ticket = row['Ticket']\n",
    "    frequency = ticket_counts_test[ticket]\n",
    "    ticket_frequency_test.append(frequency)\n",
    "\n",
    "df_test['Ticket_Frequency'] = ticket_frequency_test"
   ]
  },
  {
   "cell_type": "code",
   "execution_count": null,
   "id": "5fac3290",
   "metadata": {},
   "outputs": [],
   "source": [
    "'''37'''\n",
    "for i in range(len(df_train)):\n",
    "    if df_train['Ticket_Frequency'][i] >= 4:\n",
    "        df_train['Ticket_Frequency'][i] = 3\n",
    "\n",
    "for i in range(len(df_test)):\n",
    "    if df_test['Ticket_Frequency'][i] >= 4:\n",
    "        df_test['Ticket_Frequency'][i] = 3"
   ]
  },
  {
   "cell_type": "code",
   "execution_count": null,
   "id": "a85f1cb4",
   "metadata": {},
   "outputs": [],
   "source": [
    "'''38'''\n",
    "df_train.info()"
   ]
  },
  {
   "cell_type": "code",
   "execution_count": null,
   "id": "664b6d02",
   "metadata": {},
   "outputs": [],
   "source": [
    "'''39'''\n",
    "# 성능 확인\n",
    "col = ['Pclass', 'Age', 'SibSp', 'Parch', 'Fare', 'Sex_female', 'Sex_male', 'Embarked_C', 'Embarked_Q', 'Embarked_S', 'FamilySize', 'Ticket_Frequency'] \n",
    "\n",
    "X_train = df_train.loc[:, col]\n",
    "y_train = df_train[['Survived']]\n",
    "X_test = df_test.loc[:, col]\n",
    "\n",
    "print(X_train.shape)\n",
    "print(y_train.shape)\n",
    "print(X_test.shape)\n",
    "\n",
    "from sklearn.tree import DecisionTreeClassifier\n",
    "\n",
    "model_dt = DecisionTreeClassifier(random_state = 1004)\n",
    "model_dt.fit(X_train, y_train)\n",
    "\n",
    "preds = model_dt.predict(X_test)\n",
    "\n",
    "submission = pd.read_csv('submission.csv')\n",
    "submission.loc[:, 'Survived'] = preds\n",
    "\n",
    "submission.to_csv('Family_Ticket_score.csv', index=False)"
   ]
  },
  {
   "cell_type": "code",
   "execution_count": null,
   "id": "367592eb",
   "metadata": {},
   "outputs": [],
   "source": [
    "'''40'''\n",
    "# 성능 확인\n",
    "col = ['Pclass', 'Age', 'SibSp', 'Parch', 'Fare', 'Sex_female', 'Sex_male', 'Embarked_C', 'Embarked_Q', 'Embarked_S', 'Ticket_Frequency'] \n",
    "\n",
    "X_train = df_train.loc[:, col]\n",
    "y_train = df_train[['Survived']]\n",
    "X_test = df_test.loc[:, col]\n",
    "\n",
    "print(X_train.shape)\n",
    "print(y_train.shape)\n",
    "print(X_test.shape)\n",
    "\n",
    "from sklearn.tree import DecisionTreeClassifier\n",
    "\n",
    "model_dt = DecisionTreeClassifier(random_state = 1004)\n",
    "model_dt.fit(X_train, y_train)\n",
    "\n",
    "preds = model_dt.predict(X_test)\n",
    "\n",
    "submission = pd.read_csv('submission.csv')\n",
    "submission.loc[:, 'Survived'] = preds\n",
    "\n",
    "submission.to_csv('Ticket_score.csv', index=False)"
   ]
  },
  {
   "cell_type": "markdown",
   "id": "9a512bcb",
   "metadata": {},
   "source": [
    "#### * Title 생성"
   ]
  },
  {
   "cell_type": "code",
   "execution_count": null,
   "id": "a15ecbab",
   "metadata": {},
   "outputs": [],
   "source": [
    "'''41'''\n",
    "# 3주차 참고\n",
    "df_train['Title']=\"\"\n",
    "\n",
    "for i in range(len(df_train['Name'])):\n",
    "    full_name = df_train['Name'][i]  # 1. 현재 행의 전체 이름\n",
    "\n",
    "    last_name = full_name.split(',')[1]  # 2. 이름을 콤마(,)로 나눈 후 두 번째 부분\n",
    "    title = last_name.split('.')[0]      # 3. 두 번째 부분을 점(.)으로 나누고 첫 번째 부분을 추출\n",
    "    df_train['Title'][i] = title.lower()  # 4. 추출된 호칭을 소문자로 변환하여 'title' 열에 저장합니다."
   ]
  },
  {
   "cell_type": "code",
   "execution_count": null,
   "id": "01b3be79",
   "metadata": {
    "scrolled": true
   },
   "outputs": [],
   "source": [
    "'''42'''\n",
    "df_train['Title'].value_counts()"
   ]
  },
  {
   "cell_type": "code",
   "execution_count": null,
   "id": "664b0445",
   "metadata": {},
   "outputs": [],
   "source": [
    "'''43'''\n",
    "df_test['Title']=\"\"\n",
    "\n",
    "for i in range(len(df_test['Name'])):\n",
    "    full_name = df_test['Name'][i]  # 1. 현재 행의 전체 이름\n",
    "\n",
    "    last_name = full_name.split(',')[1]  # 2. 이름을 콤마(,)로 나눈 후 두 번째 부분\n",
    "    title = last_name.split('.')[0]      # 3. 두 번째 부분을 점(.)으로 나누고 첫 번째 부분을 추출\n",
    "    df_test['Title'][i] = title.lower()  # 4. 추출된 호칭을 소문자로 변환하여 'title' 열에 저장합니다."
   ]
  },
  {
   "cell_type": "code",
   "execution_count": null,
   "id": "e6412613",
   "metadata": {},
   "outputs": [],
   "source": [
    "'''44'''\n",
    "df_test['Title'].value_counts()"
   ]
  },
  {
   "cell_type": "code",
   "execution_count": null,
   "id": "f80d7e8e",
   "metadata": {},
   "outputs": [],
   "source": [
    "'''45'''\n",
    "df_train.to_csv('df_train_5.csv', index=False)\n",
    "df_test.to_csv('df_test_5.csv', index=False)"
   ]
  },
  {
   "cell_type": "markdown",
   "id": "9d7eeacd",
   "metadata": {},
   "source": [
    "<span style = \"color:red\"> \n",
    "Q3. Title 피쳐는 어떻게 인코딩할 수 있을까요?"
   ]
  },
  {
   "cell_type": "code",
   "execution_count": null,
   "id": "e215ae2b",
   "metadata": {},
   "outputs": [],
   "source": [
    "### 답\n",
    "# 여기에 답을 작성하시오.\n",
    "\n",
    "# 1. 빈도가 잦은 것을 모아 리스트로 만들어보세요.\n",
    "# 2. 반복문을 돌며 리스트에 없는 것은 etc로 정의하세요.\n",
    "# 3. get_dummies 활용해 문자를 숫자형태로 인코딩해보세요.\n",
    "\n",
    "# 1\n",
    "common_titles = []\n",
    "\n",
    "# 2\n",
    "for i in range( ? ):\n",
    "    if df_train.loc[ ? , ? ] not in common_titles:\n",
    "        df_train.loc[ ?, ? ] = 'etc'\n",
    "\n",
    "\n",
    "# 3\n"
   ]
  },
  {
   "cell_type": "markdown",
   "id": "e9fd6d62",
   "metadata": {},
   "source": [
    "<span style = \"color:red\"> \n",
    "Q4. 지금까지 나온 피쳐를 조합해서 성능을 높여보세요. (피쳐를 자유롭게 선택해 넣어보세요.)"
   ]
  },
  {
   "cell_type": "code",
   "execution_count": null,
   "id": "117c3069",
   "metadata": {},
   "outputs": [],
   "source": [
    "### 답\n",
    "col = [] "
   ]
  },
  {
   "cell_type": "markdown",
   "id": "3f7b5862",
   "metadata": {},
   "source": [
    "<span style = \"color:red\"> \n",
    "모델에 넣을 피쳐를 col 리스트에 넣고, 성능을 확인해보세요."
   ]
  },
  {
   "cell_type": "code",
   "execution_count": null,
   "id": "59b7499e",
   "metadata": {},
   "outputs": [],
   "source": [
    "X_train = df_train.loc[:, col]\n",
    "y_train = df_train[['Survived']]\n",
    "X_test = df_test.loc[:, col]\n",
    "\n",
    "print(X_train.shape)\n",
    "print(y_train.shape)\n",
    "print(X_test.shape)\n",
    "\n",
    "from sklearn.tree import DecisionTreeClassifier\n",
    "\n",
    "model_dt = DecisionTreeClassifier(random_state = 1004)\n",
    "model_dt.fit(X_train, y_train)\n",
    "\n",
    "preds = model_dt.predict(X_test)\n",
    "\n",
    "submission = pd.read_csv('submission.csv')\n",
    "submission.loc[:, 'Survived'] = preds\n",
    "\n",
    "submission.to_csv('Ticket_score.csv', index=False)"
   ]
  }
 ],
 "metadata": {
  "kernelspec": {
   "display_name": "Python 3 (ipykernel)",
   "language": "python",
   "name": "python3"
  },
  "language_info": {
   "codemirror_mode": {
    "name": "ipython",
    "version": 3
   },
   "file_extension": ".py",
   "mimetype": "text/x-python",
   "name": "python",
   "nbconvert_exporter": "python",
   "pygments_lexer": "ipython3",
   "version": "3.9.2"
  }
 },
 "nbformat": 4,
 "nbformat_minor": 5
}
